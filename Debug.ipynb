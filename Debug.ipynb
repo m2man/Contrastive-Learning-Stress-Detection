{
 "cells": [
  {
   "cell_type": "code",
   "execution_count": 1,
   "id": "e309d6f9-a352-4a26-803d-3adaab3d2ac8",
   "metadata": {},
   "outputs": [
    {
     "name": "stdout",
     "output_type": "stream",
     "text": [
      "Training Model for S14 and validate on S9\n"
     ]
    }
   ],
   "source": [
    "import pandas as pd\n",
    "import numpy as np\n",
    "import random\n",
    "from sklearn.model_selection import train_test_split, GridSearchCV, PredefinedSplit\n",
    "from tqdm import tqdm\n",
    "from sklearn.preprocessing import StandardScaler, RobustScaler\n",
    "from collections import Counter\n",
    "from Model_Utils import Sequence_Model, Classify_Model, Embedding_Model, HeadProjection_Model, Model_Combine\n",
    "from Dataset_Utils import *\n",
    "from General_Utils import *\n",
    "from Loss_Utils import *\n",
    "from torch.optim.lr_scheduler import ReduceLROnPlateau\n",
    "import joblib\n",
    "from scipy import stats\n",
    "#torch.autograd.set_detect_anomaly(True)\n",
    "\n",
    "# 14, 6, 17, 3, 2, 13, 9, 10, 15, 8, 7, 11, 4, 5, 16\n",
    "SUBJECT_ID_TEST = [6, 17, 3, 2, 13, 9, 10, 15, 8, 7, 11, 4, 5]\n",
    "SUBJECT_ID_TEST = ['S'+str(x) for x in SUBJECT_ID_TEST]\n",
    "SUBJECT_ID_TEST = 'S14'\n",
    "\n",
    "# # 'GM1', 'EK1', 'NM1', 'RY1', 'KSG1', 'AD1', 'NM3', 'SJ1', 'BK1', 'RY2', 'GM2', 'MT1', 'NM2'\n",
    "# SUBJECT_ID_TEST = 'AD1' # SJ1\n",
    "\n",
    "USE_LARS = True\n",
    "OPTIM = 'Adam'\n",
    "LR = 0.003\n",
    "\n",
    "MARGIN = 1\n",
    "SEQ_DIM = 128\n",
    "INPUT_FT = 60\n",
    "EMBEDDING_HIDDEN = [256, 512]\n",
    "PROJECTION_OUT = None #128 # None or int\n",
    "CLASSIFY_HIDDEN = [-1] # [64] # list or None\n",
    "DROPOUT = 0.2\n",
    "\n",
    "MAX_EPOCH = 50\n",
    "LOOK_BEFORE = 3\n",
    "INTERNAL_SAMPLE = 200\n",
    "\n",
    "MODEL_NAME = 'Euclid_CLS_512_LARS_Adam'\n",
    "SAVE_MODEL_DIR = 'Output'\n",
    "NAME_DATASET = 'WESAD'\n",
    "\n",
    "##### READ DATASET #####\n",
    "if NAME_DATASET == 'WESAD':\n",
    "    DATA_DIR = '/home/nvtu/PhD_Work/StressDetection/DATA/MyDataset/WESAD'\n",
    "    data_group = np.load(f'{DATA_DIR}/{NAME_DATASET}_WRIST_groups_1.npy')\n",
    "    data_gt = np.load(f'{DATA_DIR}/{NAME_DATASET}_WRIST_ground_truth_1.npy')\n",
    "    data_ft = np.load(f'{DATA_DIR}/{NAME_DATASET}_WRIST_stats_feats_1.npy')\n",
    "else:\n",
    "    DATA_DIR = '/home/nvtu/PhD_Work/StressDetection/DATA/MyDataset/AffectiveROAD_Data/Database'\n",
    "    NAME_DATASET = 'AffectiveROAD'\n",
    "    data_group = np.load(f'{DATA_DIR}/{NAME_DATASET}_groups_1.npy')\n",
    "    data_gt = np.load(f'{DATA_DIR}/{NAME_DATASET}_ground_truth_1.npy')\n",
    "    data_ft = np.load(f'{DATA_DIR}/{NAME_DATASET}_stats_feats_1.npy')\n",
    "    indices = np.where(data_gt >= 0)[0]\n",
    "    data_ft = data_ft[indices]\n",
    "    data_group = data_group[indices]\n",
    "    data_gt = data_gt[indices]\n",
    "\n",
    "# Create dataframe for dataset\n",
    "column_values = [f'f{x}' for x in range(data_ft.shape[1])]\n",
    "data_full = pd.DataFrame(data = data_ft,  \n",
    "                         columns = column_values)\n",
    "data_full['subject_id'] = data_group\n",
    "data_full['label'] = data_gt\n",
    "list_subject_id = np.unique(data_full['subject_id']).tolist()\n",
    "\n",
    "##### TRAIN / VAL / TEST #####\n",
    "subject_id_test = SUBJECT_ID_TEST\n",
    "data_train_val = data_full[data_full.subject_id != subject_id_test]\n",
    "data_test = data_full[data_full.subject_id == subject_id_test]\n",
    "list_id = list(set(data_train_val.subject_id))\n",
    "list_id.sort()\n",
    "subject_id_validate = random.Random(1509+int(subject_id_test[1:])+88).choices(list_id,k=1)[0]\n",
    "#subject_id_validate = 'S8'\n",
    "data_train = data_train_val[data_train_val.subject_id != subject_id_validate]\n",
    "data_validate = data_train_val[data_train_val.subject_id == subject_id_validate]\n",
    "ft_names = data_train.columns.tolist()\n",
    "\n",
    "print(f\"Training Model for {subject_id_test} and validate on {subject_id_validate}\")\n",
    "\n",
    "#temp = Counter(data_train.iloc[:,-1].tolist())\n",
    "#print(temp)\n",
    "\n",
    "# Scaler Data\n",
    "X_train = data_train.iloc[:,:-2].to_numpy()\n",
    "group_train = data_train.iloc[:,-2].to_numpy()\n",
    "y_train = data_train.iloc[:,-1].to_numpy()\n",
    "X_test = data_test.iloc[:,:-2].to_numpy()\n",
    "group_test = data_test.iloc[:,-2].to_numpy()\n",
    "y_test = data_test.iloc[:,-1].to_numpy()\n",
    "X_validate = data_validate.iloc[:,:-2].to_numpy()\n",
    "group_validate = data_validate.iloc[:,-2].to_numpy()\n",
    "y_validate = data_validate.iloc[:,-1].to_numpy()\n",
    "\n",
    "X_train = X_train.astype('float64')\n",
    "X_validate = X_validate.astype('float64')\n",
    "X_test = X_test.astype('float64')\n",
    "\n",
    "y_train = y_train.astype('float64')\n",
    "y_validate = y_validate.astype('float64')\n",
    "y_test = y_test.astype('float64')\n",
    "\n",
    "scaler = StandardScaler()\n",
    "X_train = scaler.fit_transform(X_train)\n",
    "X_validate = scaler.transform(X_validate)\n",
    "X_test = scaler.transform(X_test)\n",
    "#joblib.dump(scaler, f'{SAVE_MODEL_DIR}/{NAME_DATASET}/Model/StandardScaler_{subject_id_test}.joblib')\n",
    "\n",
    "# Create Dataframe\n",
    "df_train = pd.DataFrame(data = X_train, columns = ft_names[:-2])\n",
    "df_train['subject_id'] = group_train\n",
    "df_train['label'] = y_train\n",
    "\n",
    "df_validate = pd.DataFrame(data = X_validate, columns = ft_names[:-2])\n",
    "df_validate['subject_id'] = group_validate\n",
    "df_validate['label'] = y_validate\n",
    "\n",
    "df_test= pd.DataFrame(data = X_test, columns = ft_names[:-2])\n",
    "df_test['subject_id'] = group_test\n",
    "df_test['label'] = y_test"
   ]
  },
  {
   "cell_type": "code",
   "execution_count": 3,
   "id": "e7917c59-01f4-433c-a174-ddaf0a4ea748",
   "metadata": {},
   "outputs": [],
   "source": [
    "validate_dataset_embed = EmbDataset(df_validate)\n",
    "validate_dataloader_embed = make_EmbDataLoader(validate_dataset_embed, batch_size=2, shuffle=False)"
   ]
  },
  {
   "cell_type": "code",
   "execution_count": 4,
   "id": "33c5483c-b490-4a1c-9fb3-0035bea63983",
   "metadata": {},
   "outputs": [
    {
     "data": {
      "text/html": [
       "<div>\n",
       "<style scoped>\n",
       "    .dataframe tbody tr th:only-of-type {\n",
       "        vertical-align: middle;\n",
       "    }\n",
       "\n",
       "    .dataframe tbody tr th {\n",
       "        vertical-align: top;\n",
       "    }\n",
       "\n",
       "    .dataframe thead th {\n",
       "        text-align: right;\n",
       "    }\n",
       "</style>\n",
       "<table border=\"1\" class=\"dataframe\">\n",
       "  <thead>\n",
       "    <tr style=\"text-align: right;\">\n",
       "      <th></th>\n",
       "      <th>f0</th>\n",
       "      <th>f1</th>\n",
       "      <th>f2</th>\n",
       "      <th>f3</th>\n",
       "      <th>f4</th>\n",
       "      <th>f5</th>\n",
       "      <th>f6</th>\n",
       "      <th>f7</th>\n",
       "      <th>f8</th>\n",
       "      <th>f9</th>\n",
       "      <th>...</th>\n",
       "      <th>f52</th>\n",
       "      <th>f53</th>\n",
       "      <th>f54</th>\n",
       "      <th>f55</th>\n",
       "      <th>f56</th>\n",
       "      <th>f57</th>\n",
       "      <th>f58</th>\n",
       "      <th>f59</th>\n",
       "      <th>subject_id</th>\n",
       "      <th>label</th>\n",
       "    </tr>\n",
       "  </thead>\n",
       "  <tbody>\n",
       "    <tr>\n",
       "      <th>0</th>\n",
       "      <td>0.084262</td>\n",
       "      <td>-0.402805</td>\n",
       "      <td>-0.208260</td>\n",
       "      <td>-0.239780</td>\n",
       "      <td>-0.158864</td>\n",
       "      <td>0.152016</td>\n",
       "      <td>-0.636399</td>\n",
       "      <td>-0.723279</td>\n",
       "      <td>-0.753620</td>\n",
       "      <td>-0.21681</td>\n",
       "      <td>...</td>\n",
       "      <td>0.423549</td>\n",
       "      <td>-0.452453</td>\n",
       "      <td>0.426066</td>\n",
       "      <td>-0.449083</td>\n",
       "      <td>-0.244755</td>\n",
       "      <td>-0.439654</td>\n",
       "      <td>-0.280814</td>\n",
       "      <td>-0.467668</td>\n",
       "      <td>S9</td>\n",
       "      <td>0.0</td>\n",
       "    </tr>\n",
       "    <tr>\n",
       "      <th>1</th>\n",
       "      <td>0.042044</td>\n",
       "      <td>-0.555111</td>\n",
       "      <td>-0.189701</td>\n",
       "      <td>-0.252628</td>\n",
       "      <td>-0.143778</td>\n",
       "      <td>0.241302</td>\n",
       "      <td>-0.679626</td>\n",
       "      <td>-0.763739</td>\n",
       "      <td>-0.815771</td>\n",
       "      <td>-0.21681</td>\n",
       "      <td>...</td>\n",
       "      <td>0.428999</td>\n",
       "      <td>-0.452457</td>\n",
       "      <td>0.426064</td>\n",
       "      <td>-0.451794</td>\n",
       "      <td>-0.244799</td>\n",
       "      <td>-0.440175</td>\n",
       "      <td>-0.280849</td>\n",
       "      <td>-0.468716</td>\n",
       "      <td>S9</td>\n",
       "      <td>0.0</td>\n",
       "    </tr>\n",
       "    <tr>\n",
       "      <th>2</th>\n",
       "      <td>0.063174</td>\n",
       "      <td>-0.557960</td>\n",
       "      <td>-0.202321</td>\n",
       "      <td>-0.254617</td>\n",
       "      <td>-0.134279</td>\n",
       "      <td>0.259216</td>\n",
       "      <td>-0.679626</td>\n",
       "      <td>-0.763739</td>\n",
       "      <td>-0.815771</td>\n",
       "      <td>-0.21681</td>\n",
       "      <td>...</td>\n",
       "      <td>0.435038</td>\n",
       "      <td>-0.452465</td>\n",
       "      <td>0.426060</td>\n",
       "      <td>-0.455167</td>\n",
       "      <td>-0.244819</td>\n",
       "      <td>-0.442701</td>\n",
       "      <td>-0.280908</td>\n",
       "      <td>-0.470521</td>\n",
       "      <td>S9</td>\n",
       "      <td>0.0</td>\n",
       "    </tr>\n",
       "    <tr>\n",
       "      <th>3</th>\n",
       "      <td>0.033235</td>\n",
       "      <td>-0.567356</td>\n",
       "      <td>-0.182903</td>\n",
       "      <td>-0.252885</td>\n",
       "      <td>-0.142263</td>\n",
       "      <td>0.244829</td>\n",
       "      <td>-0.679626</td>\n",
       "      <td>-0.741486</td>\n",
       "      <td>-0.832197</td>\n",
       "      <td>-0.21681</td>\n",
       "      <td>...</td>\n",
       "      <td>0.431987</td>\n",
       "      <td>-0.452460</td>\n",
       "      <td>0.426061</td>\n",
       "      <td>-0.452361</td>\n",
       "      <td>-0.244818</td>\n",
       "      <td>-0.441616</td>\n",
       "      <td>-0.280867</td>\n",
       "      <td>-0.469267</td>\n",
       "      <td>S9</td>\n",
       "      <td>0.0</td>\n",
       "    </tr>\n",
       "    <tr>\n",
       "      <th>4</th>\n",
       "      <td>0.025635</td>\n",
       "      <td>-0.544686</td>\n",
       "      <td>-0.175426</td>\n",
       "      <td>-0.243760</td>\n",
       "      <td>-0.159953</td>\n",
       "      <td>0.239533</td>\n",
       "      <td>-0.636399</td>\n",
       "      <td>-0.700736</td>\n",
       "      <td>-0.769602</td>\n",
       "      <td>-0.21681</td>\n",
       "      <td>...</td>\n",
       "      <td>0.443693</td>\n",
       "      <td>-0.452476</td>\n",
       "      <td>0.426057</td>\n",
       "      <td>-0.458380</td>\n",
       "      <td>-0.244821</td>\n",
       "      <td>-0.443547</td>\n",
       "      <td>-0.280922</td>\n",
       "      <td>-0.470958</td>\n",
       "      <td>S9</td>\n",
       "      <td>0.0</td>\n",
       "    </tr>\n",
       "  </tbody>\n",
       "</table>\n",
       "<p>5 rows × 62 columns</p>\n",
       "</div>"
      ],
      "text/plain": [
       "         f0        f1        f2        f3        f4        f5        f6  \\\n",
       "0  0.084262 -0.402805 -0.208260 -0.239780 -0.158864  0.152016 -0.636399   \n",
       "1  0.042044 -0.555111 -0.189701 -0.252628 -0.143778  0.241302 -0.679626   \n",
       "2  0.063174 -0.557960 -0.202321 -0.254617 -0.134279  0.259216 -0.679626   \n",
       "3  0.033235 -0.567356 -0.182903 -0.252885 -0.142263  0.244829 -0.679626   \n",
       "4  0.025635 -0.544686 -0.175426 -0.243760 -0.159953  0.239533 -0.636399   \n",
       "\n",
       "         f7        f8       f9  ...       f52       f53       f54       f55  \\\n",
       "0 -0.723279 -0.753620 -0.21681  ...  0.423549 -0.452453  0.426066 -0.449083   \n",
       "1 -0.763739 -0.815771 -0.21681  ...  0.428999 -0.452457  0.426064 -0.451794   \n",
       "2 -0.763739 -0.815771 -0.21681  ...  0.435038 -0.452465  0.426060 -0.455167   \n",
       "3 -0.741486 -0.832197 -0.21681  ...  0.431987 -0.452460  0.426061 -0.452361   \n",
       "4 -0.700736 -0.769602 -0.21681  ...  0.443693 -0.452476  0.426057 -0.458380   \n",
       "\n",
       "        f56       f57       f58       f59  subject_id  label  \n",
       "0 -0.244755 -0.439654 -0.280814 -0.467668          S9    0.0  \n",
       "1 -0.244799 -0.440175 -0.280849 -0.468716          S9    0.0  \n",
       "2 -0.244819 -0.442701 -0.280908 -0.470521          S9    0.0  \n",
       "3 -0.244818 -0.441616 -0.280867 -0.469267          S9    0.0  \n",
       "4 -0.244821 -0.443547 -0.280922 -0.470958          S9    0.0  \n",
       "\n",
       "[5 rows x 62 columns]"
      ]
     },
     "execution_count": 4,
     "metadata": {},
     "output_type": "execute_result"
    }
   ],
   "source": [
    "df_validate.head()"
   ]
  },
  {
   "cell_type": "code",
   "execution_count": 5,
   "id": "19441631-1f85-4408-98db-efe68cc32774",
   "metadata": {},
   "outputs": [],
   "source": [
    "a, b = next(iter(validate_dataloader_embed))"
   ]
  },
  {
   "cell_type": "code",
   "execution_count": 6,
   "id": "45f01752-b6f5-4513-bc93-5eb8438f598c",
   "metadata": {},
   "outputs": [
    {
     "data": {
      "text/plain": [
       "tensor([[ 0.0843, -0.4028, -0.2083, -0.2398, -0.1589,  0.1520, -0.6364, -0.7233,\n",
       "         -0.7536, -0.2168, -0.2207, -0.0558,  0.1025, -0.0795, -0.2442,  0.5074,\n",
       "         -0.2201, -0.2534, -0.4827,  1.1039, -0.2133, -0.2540, -0.1979, -0.0802,\n",
       "          0.9436, -0.6417, -0.4469, -0.4677, -0.8779,  0.0417,  0.2269, -0.4103,\n",
       "         -0.4184,  0.0377, -0.6417, -0.4796, -0.6412, -0.6543, -0.5218, -0.1311,\n",
       "         -0.5485,  0.3815, -0.2764, -0.6131, -0.1531, -0.4306,  0.2607, -0.4034,\n",
       "         -0.5031, -0.5485,  0.1206, -0.5521,  0.4235, -0.4525,  0.4261, -0.4491,\n",
       "         -0.2448, -0.4397, -0.2808, -0.4677],\n",
       "        [ 0.0420, -0.5551, -0.1897, -0.2526, -0.1438,  0.2413, -0.6796, -0.7637,\n",
       "         -0.8158, -0.2168, -0.2383,  0.0744,  0.1879, -0.0793, -0.2255,  0.5095,\n",
       "         -0.2376, -0.2538, -0.4573, -0.8411, -0.2133, -0.3642, -0.2832, -0.1450,\n",
       "          0.4765, -0.6419, -0.4489, -0.4687, -0.8807,  0.0417,  0.1961, -0.4140,\n",
       "         -0.4217,  0.0620, -0.6420, -0.4803, -0.6412, -0.6557, -0.5281, -0.1030,\n",
       "         -0.5485,  0.3815, -0.2594, -0.6257,  0.0862, -0.4324, -0.0347, -0.4060,\n",
       "         -0.5025, -0.5485,  0.1368, -0.5548,  0.4290, -0.4525,  0.4261, -0.4518,\n",
       "         -0.2448, -0.4402, -0.2808, -0.4687]])"
      ]
     },
     "execution_count": 6,
     "metadata": {},
     "output_type": "execute_result"
    }
   ],
   "source": [
    "a"
   ]
  },
  {
   "cell_type": "code",
   "execution_count": 7,
   "id": "d9bff4c7-5f76-4efa-907b-ed559a1481a6",
   "metadata": {},
   "outputs": [
    {
     "data": {
      "text/plain": [
       "tensor([0., 0.])"
      ]
     },
     "execution_count": 7,
     "metadata": {},
     "output_type": "execute_result"
    }
   ],
   "source": [
    "b"
   ]
  },
  {
   "cell_type": "code",
   "execution_count": 4,
   "id": "84ff7cde-14bf-44fc-ae8b-f9d75aacbe79",
   "metadata": {},
   "outputs": [
    {
     "data": {
      "text/plain": [
       "array([1.09943190e+02, 5.14741946e+01, 2.18883095e+04, 1.05059296e+05,\n",
       "       1.83432520e+02, 2.92378026e+00, 6.95806452e+02, 3.87643737e+02,\n",
       "       1.82590848e+02, 5.33039201e+06, 1.43445357e+05, 2.99825364e-04,\n",
       "       1.44043042e-03, 1.33659821e+03, 3.79557109e-02, 2.56436559e-02,\n",
       "       7.30677087e+04, 1.40080942e+05, 2.19675923e-02, 1.30678450e-05,\n",
       "       2.48847839e-04, 1.56271778e-02, 4.70061265e-02, 2.25893961e+01,\n",
       "       2.16067643e-01, 5.90948987e+00, 1.83456505e-02, 2.10852517e-03,\n",
       "       5.64294518e-01, 1.82855211e+03, 4.51592610e+03, 3.95734791e+00,\n",
       "       1.89084947e+01, 1.83724966e+03, 5.90946520e+00, 2.05697695e-02,\n",
       "       4.81998477e+00, 6.81183910e+00, 3.41316350e-01, 1.27865391e-06,\n",
       "       2.56900978e-02, 4.74773872e-02, 5.25892202e+02, 5.32193603e+00,\n",
       "       3.12648400e-09, 3.53963729e-04, 9.79407567e-09, 1.83384306e-04,\n",
       "       3.81346924e-03, 2.56900978e-02, 1.54511594e-03, 2.10634734e-03,\n",
       "       7.81849183e-04, 5.70927486e-03, 3.07104350e-02, 3.45686267e-03,\n",
       "       1.24027786e-03, 2.30566067e+02, 1.10053664e-04, 2.10952002e-03])"
      ]
     },
     "execution_count": 4,
     "metadata": {},
     "output_type": "execute_result"
    }
   ],
   "source": [
    "scaler.var_"
   ]
  },
  {
   "cell_type": "code",
   "execution_count": 5,
   "id": "36d14bcd-91bf-4d53-aecf-72a434cd3546",
   "metadata": {},
   "outputs": [
    {
     "data": {
      "text/html": [
       "<div>\n",
       "<style scoped>\n",
       "    .dataframe tbody tr th:only-of-type {\n",
       "        vertical-align: middle;\n",
       "    }\n",
       "\n",
       "    .dataframe tbody tr th {\n",
       "        vertical-align: top;\n",
       "    }\n",
       "\n",
       "    .dataframe thead th {\n",
       "        text-align: right;\n",
       "    }\n",
       "</style>\n",
       "<table border=\"1\" class=\"dataframe\">\n",
       "  <thead>\n",
       "    <tr style=\"text-align: right;\">\n",
       "      <th></th>\n",
       "      <th>f0</th>\n",
       "      <th>f1</th>\n",
       "      <th>f2</th>\n",
       "      <th>f3</th>\n",
       "      <th>f4</th>\n",
       "      <th>f5</th>\n",
       "      <th>f6</th>\n",
       "      <th>f7</th>\n",
       "      <th>f8</th>\n",
       "      <th>f9</th>\n",
       "      <th>...</th>\n",
       "      <th>f52</th>\n",
       "      <th>f53</th>\n",
       "      <th>f54</th>\n",
       "      <th>f55</th>\n",
       "      <th>f56</th>\n",
       "      <th>f57</th>\n",
       "      <th>f58</th>\n",
       "      <th>f59</th>\n",
       "      <th>subject_id</th>\n",
       "      <th>label</th>\n",
       "    </tr>\n",
       "  </thead>\n",
       "  <tbody>\n",
       "    <tr>\n",
       "      <th>0</th>\n",
       "      <td>71.001875</td>\n",
       "      <td>11.594887</td>\n",
       "      <td>853.642086</td>\n",
       "      <td>154.521049</td>\n",
       "      <td>2.339071</td>\n",
       "      <td>0.333258</td>\n",
       "      <td>109.0</td>\n",
       "      <td>78.417266</td>\n",
       "      <td>94.244604</td>\n",
       "      <td>1125.0</td>\n",
       "      <td>...</td>\n",
       "      <td>-0.002344</td>\n",
       "      <td>0.002462</td>\n",
       "      <td>-0.018732</td>\n",
       "      <td>0.003601</td>\n",
       "      <td>21.886141</td>\n",
       "      <td>0.890333</td>\n",
       "      <td>0.000010</td>\n",
       "      <td>0.003222</td>\n",
       "      <td>S14</td>\n",
       "      <td>0</td>\n",
       "    </tr>\n",
       "    <tr>\n",
       "      <th>1</th>\n",
       "      <td>71.275764</td>\n",
       "      <td>11.993190</td>\n",
       "      <td>852.068345</td>\n",
       "      <td>156.208126</td>\n",
       "      <td>2.194700</td>\n",
       "      <td>0.313355</td>\n",
       "      <td>110.0</td>\n",
       "      <td>79.136691</td>\n",
       "      <td>94.964029</td>\n",
       "      <td>1125.0</td>\n",
       "      <td>...</td>\n",
       "      <td>-0.001870</td>\n",
       "      <td>0.002883</td>\n",
       "      <td>-0.009692</td>\n",
       "      <td>0.002393</td>\n",
       "      <td>21.886140</td>\n",
       "      <td>0.801697</td>\n",
       "      <td>0.000006</td>\n",
       "      <td>0.002370</td>\n",
       "      <td>S14</td>\n",
       "      <td>0</td>\n",
       "    </tr>\n",
       "    <tr>\n",
       "      <th>2</th>\n",
       "      <td>70.995376</td>\n",
       "      <td>11.993262</td>\n",
       "      <td>854.428957</td>\n",
       "      <td>158.174694</td>\n",
       "      <td>2.008055</td>\n",
       "      <td>0.290720</td>\n",
       "      <td>110.0</td>\n",
       "      <td>79.136691</td>\n",
       "      <td>94.964029</td>\n",
       "      <td>1125.0</td>\n",
       "      <td>...</td>\n",
       "      <td>-0.001849</td>\n",
       "      <td>0.002447</td>\n",
       "      <td>-0.009703</td>\n",
       "      <td>0.002347</td>\n",
       "      <td>21.886139</td>\n",
       "      <td>0.813464</td>\n",
       "      <td>0.000006</td>\n",
       "      <td>0.002419</td>\n",
       "      <td>S14</td>\n",
       "      <td>0</td>\n",
       "    </tr>\n",
       "    <tr>\n",
       "      <th>3</th>\n",
       "      <td>70.929045</td>\n",
       "      <td>12.084673</td>\n",
       "      <td>854.991007</td>\n",
       "      <td>159.511131</td>\n",
       "      <td>1.910564</td>\n",
       "      <td>0.295406</td>\n",
       "      <td>109.0</td>\n",
       "      <td>78.417266</td>\n",
       "      <td>94.244604</td>\n",
       "      <td>1125.0</td>\n",
       "      <td>...</td>\n",
       "      <td>-0.001749</td>\n",
       "      <td>0.003175</td>\n",
       "      <td>-0.009677</td>\n",
       "      <td>0.002320</td>\n",
       "      <td>21.886140</td>\n",
       "      <td>0.762883</td>\n",
       "      <td>0.000005</td>\n",
       "      <td>0.002215</td>\n",
       "      <td>S14</td>\n",
       "      <td>0</td>\n",
       "    </tr>\n",
       "    <tr>\n",
       "      <th>4</th>\n",
       "      <td>71.047971</td>\n",
       "      <td>12.048325</td>\n",
       "      <td>853.866906</td>\n",
       "      <td>159.098395</td>\n",
       "      <td>1.924567</td>\n",
       "      <td>0.293828</td>\n",
       "      <td>109.0</td>\n",
       "      <td>78.417266</td>\n",
       "      <td>94.964029</td>\n",
       "      <td>1125.0</td>\n",
       "      <td>...</td>\n",
       "      <td>-0.001919</td>\n",
       "      <td>0.001426</td>\n",
       "      <td>-0.009659</td>\n",
       "      <td>0.002218</td>\n",
       "      <td>21.886143</td>\n",
       "      <td>0.726163</td>\n",
       "      <td>0.000005</td>\n",
       "      <td>0.002130</td>\n",
       "      <td>S14</td>\n",
       "      <td>0</td>\n",
       "    </tr>\n",
       "  </tbody>\n",
       "</table>\n",
       "<p>5 rows × 62 columns</p>\n",
       "</div>"
      ],
      "text/plain": [
       "          f0         f1          f2          f3        f4        f5     f6  \\\n",
       "0  71.001875  11.594887  853.642086  154.521049  2.339071  0.333258  109.0   \n",
       "1  71.275764  11.993190  852.068345  156.208126  2.194700  0.313355  110.0   \n",
       "2  70.995376  11.993262  854.428957  158.174694  2.008055  0.290720  110.0   \n",
       "3  70.929045  12.084673  854.991007  159.511131  1.910564  0.295406  109.0   \n",
       "4  71.047971  12.048325  853.866906  159.098395  1.924567  0.293828  109.0   \n",
       "\n",
       "          f7         f8      f9  ...       f52       f53       f54       f55  \\\n",
       "0  78.417266  94.244604  1125.0  ... -0.002344  0.002462 -0.018732  0.003601   \n",
       "1  79.136691  94.964029  1125.0  ... -0.001870  0.002883 -0.009692  0.002393   \n",
       "2  79.136691  94.964029  1125.0  ... -0.001849  0.002447 -0.009703  0.002347   \n",
       "3  78.417266  94.244604  1125.0  ... -0.001749  0.003175 -0.009677  0.002320   \n",
       "4  78.417266  94.964029  1125.0  ... -0.001919  0.001426 -0.009659  0.002218   \n",
       "\n",
       "         f56       f57       f58       f59  subject_id  label  \n",
       "0  21.886141  0.890333  0.000010  0.003222         S14      0  \n",
       "1  21.886140  0.801697  0.000006  0.002370         S14      0  \n",
       "2  21.886139  0.813464  0.000006  0.002419         S14      0  \n",
       "3  21.886140  0.762883  0.000005  0.002215         S14      0  \n",
       "4  21.886143  0.726163  0.000005  0.002130         S14      0  \n",
       "\n",
       "[5 rows x 62 columns]"
      ]
     },
     "execution_count": 5,
     "metadata": {},
     "output_type": "execute_result"
    }
   ],
   "source": [
    "data_train.head()"
   ]
  },
  {
   "cell_type": "code",
   "execution_count": 7,
   "id": "5a8d3bb4-8e09-4222-9c45-7d175b5992ff",
   "metadata": {},
   "outputs": [
    {
     "data": {
      "text/plain": [
       "1768.4307213451418"
      ]
     },
     "execution_count": 7,
     "metadata": {},
     "output_type": "execute_result"
    }
   ],
   "source": [
    "data_train['f9'].mean()"
   ]
  },
  {
   "cell_type": "code",
   "execution_count": 8,
   "id": "d6e8355d-dcd6-400c-8ff9-57577a391051",
   "metadata": {},
   "outputs": [
    {
     "data": {
      "text/plain": [
       "2308.8012175492113"
      ]
     },
     "execution_count": 8,
     "metadata": {},
     "output_type": "execute_result"
    }
   ],
   "source": [
    "data_train['f9'].std()"
   ]
  },
  {
   "cell_type": "code",
   "execution_count": 13,
   "id": "d72622ed-2152-4f42-b9f8-1e2cc10c5220",
   "metadata": {},
   "outputs": [],
   "source": [
    "modules = [] \n",
    "emb_size = [128]\n",
    "for idx, size in enumerate(emb_size):\n",
    "    if idx == 0:\n",
    "        modules.append(nn.Linear(60, emb_size[idx]))\n",
    "    else:\n",
    "        modules.append(nn.Linear(emb_size[idx-1], emb_size[idx]))\n",
    "    modules.append(nn.BatchNorm1d(num_features=emb_size[idx]))\n",
    "    modules.append(nn.ReLU())\n",
    "    modules.append(nn.Dropout(0.2))   \n",
    "\n",
    "# Add for Res connect\n",
    "#modules.append(nn.Linear(self.emb_size[-1], self.input_size))\n",
    "#modules.append(nn.BatchNorm1d(num_features=self.input_size))\n",
    "#modules.append(nn.ReLU())\n",
    "#modules.append(nn.Dropout(self.do))    \n",
    "emb = nn.Sequential(*modules)"
   ]
  },
  {
   "cell_type": "code",
   "execution_count": 17,
   "id": "d401d993-3945-4016-adcb-33034ce61758",
   "metadata": {},
   "outputs": [
    {
     "data": {
      "text/plain": [
       "Parameter containing:\n",
       "tensor([[ 0.0988, -0.0020, -0.0154,  ...,  0.0274,  0.1140, -0.0258],\n",
       "        [-0.0066,  0.0913, -0.1289,  ..., -0.0730,  0.1078, -0.1040],\n",
       "        [-0.0611, -0.0070, -0.1198,  ..., -0.0228, -0.0460, -0.0347],\n",
       "        ...,\n",
       "        [ 0.0742, -0.0556,  0.0104,  ...,  0.0198, -0.0373,  0.0250],\n",
       "        [-0.0158,  0.0866, -0.0060,  ..., -0.1018,  0.0731,  0.0742],\n",
       "        [ 0.0228, -0.0764, -0.0969,  ..., -0.0252, -0.0199,  0.0934]],\n",
       "       requires_grad=True)"
      ]
     },
     "execution_count": 17,
     "metadata": {},
     "output_type": "execute_result"
    }
   ],
   "source": [
    "emb[0].weight"
   ]
  },
  {
   "cell_type": "code",
   "execution_count": null,
   "id": "50436f16-d582-4e19-b83a-ed0111bb4d75",
   "metadata": {},
   "outputs": [],
   "source": []
  },
  {
   "cell_type": "code",
   "execution_count": null,
   "id": "e033a56f-54d4-4461-8c96-2fb01b3e82be",
   "metadata": {},
   "outputs": [],
   "source": []
  },
  {
   "cell_type": "code",
   "execution_count": 1,
   "id": "512325ab-1df9-4c04-a88c-254d7f1dc988",
   "metadata": {},
   "outputs": [],
   "source": [
    "import pandas as pd\n",
    "import numpy as np\n",
    "import random\n",
    "from sklearn.model_selection import train_test_split, GridSearchCV, PredefinedSplit\n",
    "from tqdm import tqdm\n",
    "from sklearn.preprocessing import StandardScaler, RobustScaler\n",
    "from collections import Counter\n",
    "from Model_Utils import Sequence_Model, Classify_Model, Embedding_Model, HeadProjection_Model\n",
    "from Dataset_Utils import *\n",
    "from General_Utils import *\n",
    "from torch.optim.lr_scheduler import ReduceLROnPlateau\n",
    "import joblib\n",
    "from scipy import stats\n",
    "\n",
    "# 14, 6, 17, 3, 2, 13, 9, 10, 15, 8, 7, 11, 4, 5, 16\n",
    "SUBJECT_ID_TEST = [6, 17, 3, 2, 13, 9, 10, 15, 8, 7, 11, 4, 5]\n",
    "SUBJECT_ID_TEST = ['S'+str(x) for x in SUBJECT_ID_TEST]\n",
    "SUBJECT_ID_TEST = 'S9'\n",
    "\n",
    "# # 'GM1', 'EK1', 'NM1', 'RY1', 'KSG1', 'AD1', 'NM3', 'SJ1', 'BK1', 'RY2', 'GM2', 'MT1', 'NM2'\n",
    "# SUBJECT_ID_TEST = 'AD1' # SJ1\n",
    "\n",
    "MARGIN = 1\n",
    "SEQ_DIM = 128\n",
    "INPUT_FT = 60\n",
    "EMBEDDING_HIDDEN = [60]\n",
    "PROJECTION_OUT = 32\n",
    "CLASSIFY_HIDDEN = [64]\n",
    "DROPOUT = 0.2\n",
    "LR = 0.003\n",
    "MAX_EPOCH = 50\n",
    "LOOK_BEFORE = 3\n",
    "INTERNAL_SAMPLE = 200\n",
    "\n",
    "MODEL_NAME = 'Emb_Euclid_sample_cross_internal_Projection'\n",
    "SAVE_MODEL_DIR = 'Output'\n",
    "NAME_DATASET = 'WESAD'\n"
   ]
  },
  {
   "cell_type": "code",
   "execution_count": 2,
   "id": "942a8ab5-7443-4735-b53b-9ca689e0bfe7",
   "metadata": {},
   "outputs": [
    {
     "data": {
      "text/plain": [
       "HeadProjection_Model(\n",
       "  (hd1): Linear(in_features=60, out_features=60, bias=True)\n",
       "  (rl1): ReLU()\n",
       "  (hd2): Linear(in_features=60, out_features=32, bias=True)\n",
       ")"
      ]
     },
     "execution_count": 2,
     "metadata": {},
     "output_type": "execute_result"
    }
   ],
   "source": [
    "Con_Mod = Embedding_Model(input_size=INPUT_FT, dropout=DROPOUT, emb_size=EMBEDDING_HIDDEN).to(device)\n",
    "Pro_Mod = HeadProjection_Model(input_size=EMBEDDING_HIDDEN[-1], output_size=PROJECTION_OUT).to(device)\n",
    "\n",
    "modelCheckpoint = torch.load(f\"{SAVE_MODEL_DIR}/{NAME_DATASET}/Model/{MODEL_NAME}_{SUBJECT_ID_TEST}.pth.tar\")\n",
    "Con_Mod.load_state_dict(modelCheckpoint['model_con_state_dict'])\n",
    "Con_Mod.eval()\n",
    "Pro_Mod.load_state_dict(modelCheckpoint['model_pro_state_dict'])\n",
    "Pro_Mod.eval()"
   ]
  },
  {
   "cell_type": "code",
   "execution_count": 3,
   "id": "fcb636ce-c870-4413-bd1c-e5455ba2dc12",
   "metadata": {},
   "outputs": [
    {
     "data": {
      "text/plain": [
       "Parameter containing:\n",
       "tensor([[-0.0858,  0.0980, -0.1024,  ...,  0.0130,  0.0648,  0.1077],\n",
       "        [ 0.0520, -0.0825,  0.1032,  ...,  0.0158,  0.0317,  0.0155],\n",
       "        [-0.0750, -0.0975,  0.0795,  ..., -0.0446, -0.0503, -0.0287],\n",
       "        ...,\n",
       "        [ 0.0251,  0.0366,  0.0377,  ..., -0.0401,  0.0422, -0.0394],\n",
       "        [ 0.0049, -0.0798, -0.0865,  ...,  0.0496, -0.0921, -0.0768],\n",
       "        [ 0.0981, -0.0390, -0.0083,  ...,  0.0266,  0.0370,  0.0711]],\n",
       "       device='cuda:0', requires_grad=True)"
      ]
     },
     "execution_count": 3,
     "metadata": {},
     "output_type": "execute_result"
    }
   ],
   "source": [
    "Pro_Mod.hd1.weight"
   ]
  },
  {
   "cell_type": "code",
   "execution_count": 4,
   "id": "9e06a1c1-f681-4ff8-b99c-3808e6a49e49",
   "metadata": {},
   "outputs": [
    {
     "data": {
      "text/plain": [
       "Parameter containing:\n",
       "tensor([-0.0934, -0.1215,  0.2051, -0.0744,  0.2129,  0.2045,  0.0590,  0.2637,\n",
       "         0.2138,  0.0058,  0.0788,  0.1497, -0.0710, -0.0327, -0.0213,  0.1931,\n",
       "        -0.0747, -0.1069,  0.0922, -0.0311, -0.1023,  0.1935,  0.1745, -0.1163,\n",
       "         0.2568,  0.0939, -0.0642,  0.0359,  0.1852,  0.2701, -0.1405,  0.2189,\n",
       "         0.2580,  0.2921, -0.0579,  0.2543, -0.0737, -0.0364,  0.2275, -0.1183,\n",
       "        -0.0726, -0.1142, -0.1225, -0.0979,  0.0906,  0.0431, -0.1285, -0.0323,\n",
       "        -0.1574,  0.2514,  0.0058,  0.0200, -0.0503, -0.1350,  0.1947,  0.1999,\n",
       "         0.1651,  0.1295, -0.1420,  0.1725], device='cuda:0',\n",
       "       requires_grad=True)"
      ]
     },
     "execution_count": 4,
     "metadata": {},
     "output_type": "execute_result"
    }
   ],
   "source": [
    "Pro_Mod.hd1.bias"
   ]
  },
  {
   "cell_type": "code",
   "execution_count": 5,
   "id": "19240055-1abf-4020-83d7-69c575627f55",
   "metadata": {},
   "outputs": [
    {
     "data": {
      "text/plain": [
       "Parameter containing:\n",
       "tensor([-0.1596,  0.0928,  0.1766,  0.0669, -0.1054, -0.1328,  0.0818, -0.0764,\n",
       "         0.0954,  0.0787, -0.0842,  0.0649, -0.0980, -0.1510,  0.0510, -0.0521,\n",
       "        -0.0863,  0.0436, -0.1306, -0.1463,  0.0967, -0.0999,  0.0709,  0.1425,\n",
       "         0.1492,  0.1079, -0.1419, -0.0056, -0.1357, -0.0456,  0.0960,  0.1696],\n",
       "       device='cuda:0', requires_grad=True)"
      ]
     },
     "execution_count": 5,
     "metadata": {},
     "output_type": "execute_result"
    }
   ],
   "source": [
    "Pro_Mod.hd2.bias"
   ]
  },
  {
   "cell_type": "code",
   "execution_count": 6,
   "id": "18369b68-0e0f-4d13-b170-13f89fb343e1",
   "metadata": {},
   "outputs": [
    {
     "data": {
      "text/plain": [
       "Parameter containing:\n",
       "tensor([[ 0.0513, -0.0392, -0.0430,  ..., -0.0796, -0.0425,  0.0383],\n",
       "        [ 0.0412, -0.0211,  0.0820,  ...,  0.0713,  0.1204,  0.0695],\n",
       "        [ 0.0698,  0.0704,  0.0572,  ...,  0.0843,  0.0856,  0.0831],\n",
       "        ...,\n",
       "        [-0.1059,  0.0759, -0.0796,  ..., -0.0353, -0.1383, -0.0668],\n",
       "        [ 0.0537, -0.0231,  0.0292,  ...,  0.0964, -0.0417,  0.0113],\n",
       "        [-0.0549,  0.1594,  0.0441,  ..., -0.0246, -0.0376, -0.0178]],\n",
       "       device='cuda:0', requires_grad=True)"
      ]
     },
     "execution_count": 6,
     "metadata": {},
     "output_type": "execute_result"
    }
   ],
   "source": [
    "Pro_Mod.hd2.weight"
   ]
  },
  {
   "cell_type": "code",
   "execution_count": 7,
   "id": "d89d1416-c7cc-4e8e-9f1b-e85268b8d123",
   "metadata": {},
   "outputs": [],
   "source": [
    "a = torch.rand((2, 60)).cuda()"
   ]
  },
  {
   "cell_type": "code",
   "execution_count": 8,
   "id": "09c9e6ca-8a6f-4550-907e-cfb45f2519b2",
   "metadata": {},
   "outputs": [],
   "source": [
    "b = Pro_Mod(a)"
   ]
  },
  {
   "cell_type": "code",
   "execution_count": 10,
   "id": "903f73a6-297a-41ba-87ab-593f8eacac37",
   "metadata": {},
   "outputs": [
    {
     "data": {
      "text/plain": [
       "tensor([[-0.1397,  0.2591,  0.1535,  0.1633, -0.1482, -0.1793,  0.1317, -0.2021,\n",
       "          0.2467,  0.1251, -0.0857,  0.1589, -0.0829, -0.1605,  0.1649, -0.2431,\n",
       "         -0.1792,  0.0058, -0.2280, -0.1048,  0.1146, -0.2707,  0.2562,  0.2163,\n",
       "          0.1671,  0.1597, -0.2725, -0.0851, -0.1821, -0.0893,  0.1568,  0.1680],\n",
       "        [-0.1372,  0.2515,  0.1529,  0.1607, -0.1567, -0.1800,  0.1103, -0.1928,\n",
       "          0.2575,  0.1267, -0.0851,  0.1515, -0.0770, -0.1579,  0.1576, -0.2630,\n",
       "         -0.1682,  0.0060, -0.2539, -0.1088,  0.1103, -0.2712,  0.2430,  0.2114,\n",
       "          0.1470,  0.1720, -0.2743, -0.0672, -0.1609, -0.1009,  0.1836,  0.1737]],\n",
       "       device='cuda:0', grad_fn=<DivBackward0>)"
      ]
     },
     "execution_count": 10,
     "metadata": {},
     "output_type": "execute_result"
    }
   ],
   "source": [
    "b"
   ]
  },
  {
   "cell_type": "code",
   "execution_count": null,
   "id": "67855d6c-490a-49bc-9977-29d13fd694d1",
   "metadata": {},
   "outputs": [],
   "source": []
  }
 ],
 "metadata": {
  "kernelspec": {
   "display_name": "Python 3",
   "language": "python",
   "name": "python3"
  },
  "language_info": {
   "codemirror_mode": {
    "name": "ipython",
    "version": 3
   },
   "file_extension": ".py",
   "mimetype": "text/x-python",
   "name": "python",
   "nbconvert_exporter": "python",
   "pygments_lexer": "ipython3",
   "version": "3.7.9"
  }
 },
 "nbformat": 4,
 "nbformat_minor": 5
}
