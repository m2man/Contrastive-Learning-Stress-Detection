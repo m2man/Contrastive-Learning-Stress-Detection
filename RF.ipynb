{
 "cells": [
  {
   "cell_type": "code",
   "execution_count": 1,
   "id": "b76b7ddb-99fa-4af9-a34f-7dcbd7537107",
   "metadata": {},
   "outputs": [],
   "source": [
    "import numpy as np\n",
    "import pandas as pd\n",
    "import random\n",
    "from sklearn.model_selection import train_test_split, GridSearchCV, PredefinedSplit\n",
    "from sklearn.metrics import accuracy_score, f1_score, balanced_accuracy_score\n",
    "from tqdm import tqdm\n",
    "from sklearn.ensemble import RandomForestClassifier\n",
    "from sklearn.preprocessing import StandardScaler, RobustScaler\n",
    "from sklearn.ensemble import ExtraTreesClassifier\n",
    "from sklearn.svm import SVC"
   ]
  },
  {
   "cell_type": "code",
   "execution_count": 2,
   "id": "feafd6f7-8502-40b7-8575-90027a093f5c",
   "metadata": {},
   "outputs": [],
   "source": [
    "# 14, 6, 17, 3, 2, 13, 9, 10, 15, 8, 7, 11, 4, 5, 16\n",
    "SUBJECT_ID_TEST = [6, 17, 3, 2, 13, 9, 10, 15, 8, 7, 11, 4, 5]\n",
    "SUBJECT_ID_TEST = ['S'+str(x) for x in SUBJECT_ID_TEST]\n",
    "SUBJECT_ID_TEST = 'S9'\n",
    "\n",
    "subject_id_test = SUBJECT_ID_TEST\n",
    "# # 'GM1', 'EK1', 'NM1', 'RY1', 'KSG1', 'AD1', 'NM3', 'SJ1', 'BK1', 'RY2', 'GM2', 'MT1', 'NM2'\n",
    "# SUBJECT_ID_TEST = 'AD1' # SJ1\n",
    "\n",
    "MODEL_NAME = 'SCL_1024_LARS_SGD'\n",
    "SAVE_MODEL_DIR = 'Output'\n",
    "NAME_DATASET = 'WESAD'\n",
    "\n",
    "##### READ DATASET #####\n",
    "if NAME_DATASET == 'WESAD':\n",
    "    DATA_DIR = '/home/nvtu/PhD_Work/StressDetection/DATA/MyDataset/WESAD'\n",
    "    data_group = np.load(f'{DATA_DIR}/{NAME_DATASET}_WRIST_groups_1.npy')\n",
    "    data_gt = np.load(f'{DATA_DIR}/{NAME_DATASET}_WRIST_ground_truth_1.npy')\n",
    "    data_ft = np.load(f'{DATA_DIR}/{NAME_DATASET}_WRIST_stats_feats_1.npy')\n",
    "else:\n",
    "    DATA_DIR = '/home/nvtu/PhD_Work/StressDetection/DATA/MyDataset/AffectiveROAD_Data/Database'\n",
    "    NAME_DATASET = 'AffectiveROAD'\n",
    "    data_group = np.load(f'{DATA_DIR}/{NAME_DATASET}_groups_1.npy')\n",
    "    data_gt = np.load(f'{DATA_DIR}/{NAME_DATASET}_ground_truth_1.npy')\n",
    "    data_ft = np.load(f'{DATA_DIR}/{NAME_DATASET}_stats_feats_1.npy')\n",
    "    indices = np.where(data_gt >= 0)[0]\n",
    "    data_ft = data_ft[indices]\n",
    "    data_group = data_group[indices]\n",
    "    data_gt = data_gt[indices]\n",
    "    \n",
    "# data_ft_con = np.load(f'{SAVE_MODEL_DIR}/{NAME_DATASET}/EmbedFt/EmbedFt_{MODEL_NAME}_{subject_id_test}.npy')\n",
    "\n",
    "# Create dataframe for dataset\n",
    "column_values = [f'f{x}' for x in range(data_ft.shape[1])]\n",
    "data_full = pd.DataFrame(data = data_ft,  \n",
    "                         columns = column_values)\n",
    "data_full['subject_id'] = data_group\n",
    "data_full['label'] = data_gt\n",
    "list_subject_id = np.unique(data_full['subject_id']).tolist()"
   ]
  },
  {
   "cell_type": "code",
   "execution_count": 3,
   "id": "0edc0bb1-fb85-40b1-a465-0478f2e0f8f7",
   "metadata": {},
   "outputs": [
    {
     "data": {
      "text/html": [
       "<div>\n",
       "<style scoped>\n",
       "    .dataframe tbody tr th:only-of-type {\n",
       "        vertical-align: middle;\n",
       "    }\n",
       "\n",
       "    .dataframe tbody tr th {\n",
       "        vertical-align: top;\n",
       "    }\n",
       "\n",
       "    .dataframe thead th {\n",
       "        text-align: right;\n",
       "    }\n",
       "</style>\n",
       "<table border=\"1\" class=\"dataframe\">\n",
       "  <thead>\n",
       "    <tr style=\"text-align: right;\">\n",
       "      <th></th>\n",
       "      <th>f0</th>\n",
       "      <th>f1</th>\n",
       "      <th>f2</th>\n",
       "      <th>f3</th>\n",
       "      <th>f4</th>\n",
       "      <th>f5</th>\n",
       "      <th>f6</th>\n",
       "      <th>f7</th>\n",
       "      <th>f8</th>\n",
       "      <th>f9</th>\n",
       "      <th>...</th>\n",
       "      <th>f52</th>\n",
       "      <th>f53</th>\n",
       "      <th>f54</th>\n",
       "      <th>f55</th>\n",
       "      <th>f56</th>\n",
       "      <th>f57</th>\n",
       "      <th>f58</th>\n",
       "      <th>f59</th>\n",
       "      <th>subject_id</th>\n",
       "      <th>label</th>\n",
       "    </tr>\n",
       "  </thead>\n",
       "  <tbody>\n",
       "    <tr>\n",
       "      <th>0</th>\n",
       "      <td>71.001875</td>\n",
       "      <td>11.594887</td>\n",
       "      <td>853.642086</td>\n",
       "      <td>154.521049</td>\n",
       "      <td>2.339071</td>\n",
       "      <td>0.333258</td>\n",
       "      <td>109.0</td>\n",
       "      <td>78.417266</td>\n",
       "      <td>94.244604</td>\n",
       "      <td>1125.00</td>\n",
       "      <td>...</td>\n",
       "      <td>-0.002344</td>\n",
       "      <td>0.002462</td>\n",
       "      <td>-0.018732</td>\n",
       "      <td>0.003601</td>\n",
       "      <td>21.886141</td>\n",
       "      <td>0.890333</td>\n",
       "      <td>0.000010</td>\n",
       "      <td>0.003222</td>\n",
       "      <td>S14</td>\n",
       "      <td>0</td>\n",
       "    </tr>\n",
       "    <tr>\n",
       "      <th>1</th>\n",
       "      <td>71.275764</td>\n",
       "      <td>11.993190</td>\n",
       "      <td>852.068345</td>\n",
       "      <td>156.208126</td>\n",
       "      <td>2.194700</td>\n",
       "      <td>0.313355</td>\n",
       "      <td>110.0</td>\n",
       "      <td>79.136691</td>\n",
       "      <td>94.964029</td>\n",
       "      <td>1125.00</td>\n",
       "      <td>...</td>\n",
       "      <td>-0.001870</td>\n",
       "      <td>0.002883</td>\n",
       "      <td>-0.009692</td>\n",
       "      <td>0.002393</td>\n",
       "      <td>21.886140</td>\n",
       "      <td>0.801697</td>\n",
       "      <td>0.000006</td>\n",
       "      <td>0.002370</td>\n",
       "      <td>S14</td>\n",
       "      <td>0</td>\n",
       "    </tr>\n",
       "    <tr>\n",
       "      <th>2</th>\n",
       "      <td>70.995376</td>\n",
       "      <td>11.993262</td>\n",
       "      <td>854.428957</td>\n",
       "      <td>158.174694</td>\n",
       "      <td>2.008055</td>\n",
       "      <td>0.290720</td>\n",
       "      <td>110.0</td>\n",
       "      <td>79.136691</td>\n",
       "      <td>94.964029</td>\n",
       "      <td>1125.00</td>\n",
       "      <td>...</td>\n",
       "      <td>-0.001849</td>\n",
       "      <td>0.002447</td>\n",
       "      <td>-0.009703</td>\n",
       "      <td>0.002347</td>\n",
       "      <td>21.886139</td>\n",
       "      <td>0.813464</td>\n",
       "      <td>0.000006</td>\n",
       "      <td>0.002419</td>\n",
       "      <td>S14</td>\n",
       "      <td>0</td>\n",
       "    </tr>\n",
       "    <tr>\n",
       "      <th>3</th>\n",
       "      <td>70.929045</td>\n",
       "      <td>12.084673</td>\n",
       "      <td>854.991007</td>\n",
       "      <td>159.511131</td>\n",
       "      <td>1.910564</td>\n",
       "      <td>0.295406</td>\n",
       "      <td>109.0</td>\n",
       "      <td>78.417266</td>\n",
       "      <td>94.244604</td>\n",
       "      <td>1125.00</td>\n",
       "      <td>...</td>\n",
       "      <td>-0.001749</td>\n",
       "      <td>0.003175</td>\n",
       "      <td>-0.009677</td>\n",
       "      <td>0.002320</td>\n",
       "      <td>21.886140</td>\n",
       "      <td>0.762883</td>\n",
       "      <td>0.000005</td>\n",
       "      <td>0.002215</td>\n",
       "      <td>S14</td>\n",
       "      <td>0</td>\n",
       "    </tr>\n",
       "    <tr>\n",
       "      <th>4</th>\n",
       "      <td>71.047971</td>\n",
       "      <td>12.048325</td>\n",
       "      <td>853.866906</td>\n",
       "      <td>159.098395</td>\n",
       "      <td>1.924567</td>\n",
       "      <td>0.293828</td>\n",
       "      <td>109.0</td>\n",
       "      <td>78.417266</td>\n",
       "      <td>94.964029</td>\n",
       "      <td>1125.00</td>\n",
       "      <td>...</td>\n",
       "      <td>-0.001919</td>\n",
       "      <td>0.001426</td>\n",
       "      <td>-0.009659</td>\n",
       "      <td>0.002218</td>\n",
       "      <td>21.886143</td>\n",
       "      <td>0.726163</td>\n",
       "      <td>0.000005</td>\n",
       "      <td>0.002130</td>\n",
       "      <td>S14</td>\n",
       "      <td>0</td>\n",
       "    </tr>\n",
       "    <tr>\n",
       "      <th>...</th>\n",
       "      <td>...</td>\n",
       "      <td>...</td>\n",
       "      <td>...</td>\n",
       "      <td>...</td>\n",
       "      <td>...</td>\n",
       "      <td>...</td>\n",
       "      <td>...</td>\n",
       "      <td>...</td>\n",
       "      <td>...</td>\n",
       "      <td>...</td>\n",
       "      <td>...</td>\n",
       "      <td>...</td>\n",
       "      <td>...</td>\n",
       "      <td>...</td>\n",
       "      <td>...</td>\n",
       "      <td>...</td>\n",
       "      <td>...</td>\n",
       "      <td>...</td>\n",
       "      <td>...</td>\n",
       "      <td>...</td>\n",
       "      <td>...</td>\n",
       "    </tr>\n",
       "    <tr>\n",
       "      <th>35953</th>\n",
       "      <td>66.946620</td>\n",
       "      <td>12.147755</td>\n",
       "      <td>906.846374</td>\n",
       "      <td>169.934462</td>\n",
       "      <td>0.147691</td>\n",
       "      <td>-0.270101</td>\n",
       "      <td>114.0</td>\n",
       "      <td>87.022901</td>\n",
       "      <td>96.183206</td>\n",
       "      <td>968.75</td>\n",
       "      <td>...</td>\n",
       "      <td>-0.001389</td>\n",
       "      <td>0.001393</td>\n",
       "      <td>-0.007822</td>\n",
       "      <td>0.001640</td>\n",
       "      <td>21.886119</td>\n",
       "      <td>0.537796</td>\n",
       "      <td>0.000002</td>\n",
       "      <td>0.001557</td>\n",
       "      <td>S16</td>\n",
       "      <td>0</td>\n",
       "    </tr>\n",
       "    <tr>\n",
       "      <th>35954</th>\n",
       "      <td>66.850106</td>\n",
       "      <td>12.281809</td>\n",
       "      <td>906.129808</td>\n",
       "      <td>170.393058</td>\n",
       "      <td>0.133094</td>\n",
       "      <td>-0.258618</td>\n",
       "      <td>113.0</td>\n",
       "      <td>86.923077</td>\n",
       "      <td>96.153846</td>\n",
       "      <td>968.75</td>\n",
       "      <td>...</td>\n",
       "      <td>-0.001420</td>\n",
       "      <td>0.001235</td>\n",
       "      <td>-0.007863</td>\n",
       "      <td>0.001588</td>\n",
       "      <td>21.886119</td>\n",
       "      <td>0.516027</td>\n",
       "      <td>0.000002</td>\n",
       "      <td>0.001504</td>\n",
       "      <td>S16</td>\n",
       "      <td>0</td>\n",
       "    </tr>\n",
       "    <tr>\n",
       "      <th>35955</th>\n",
       "      <td>66.560432</td>\n",
       "      <td>12.319285</td>\n",
       "      <td>909.855769</td>\n",
       "      <td>171.456485</td>\n",
       "      <td>0.095429</td>\n",
       "      <td>-0.301767</td>\n",
       "      <td>114.0</td>\n",
       "      <td>87.692308</td>\n",
       "      <td>96.153846</td>\n",
       "      <td>968.75</td>\n",
       "      <td>...</td>\n",
       "      <td>-0.001361</td>\n",
       "      <td>0.001216</td>\n",
       "      <td>-0.007829</td>\n",
       "      <td>0.001570</td>\n",
       "      <td>21.886118</td>\n",
       "      <td>0.519307</td>\n",
       "      <td>0.000002</td>\n",
       "      <td>0.001503</td>\n",
       "      <td>S16</td>\n",
       "      <td>0</td>\n",
       "    </tr>\n",
       "    <tr>\n",
       "      <th>35956</th>\n",
       "      <td>66.629416</td>\n",
       "      <td>12.310309</td>\n",
       "      <td>909.735577</td>\n",
       "      <td>171.354097</td>\n",
       "      <td>0.100256</td>\n",
       "      <td>-0.301718</td>\n",
       "      <td>113.0</td>\n",
       "      <td>86.923077</td>\n",
       "      <td>96.153846</td>\n",
       "      <td>968.75</td>\n",
       "      <td>...</td>\n",
       "      <td>-0.001382</td>\n",
       "      <td>0.001223</td>\n",
       "      <td>-0.007867</td>\n",
       "      <td>0.001576</td>\n",
       "      <td>21.886118</td>\n",
       "      <td>0.511775</td>\n",
       "      <td>0.000002</td>\n",
       "      <td>0.001492</td>\n",
       "      <td>S16</td>\n",
       "      <td>0</td>\n",
       "    </tr>\n",
       "    <tr>\n",
       "      <th>35957</th>\n",
       "      <td>66.364244</td>\n",
       "      <td>12.285762</td>\n",
       "      <td>913.100962</td>\n",
       "      <td>171.251775</td>\n",
       "      <td>0.128645</td>\n",
       "      <td>-0.328987</td>\n",
       "      <td>113.0</td>\n",
       "      <td>86.923077</td>\n",
       "      <td>96.153846</td>\n",
       "      <td>968.75</td>\n",
       "      <td>...</td>\n",
       "      <td>-0.001309</td>\n",
       "      <td>0.001490</td>\n",
       "      <td>-0.008003</td>\n",
       "      <td>0.001593</td>\n",
       "      <td>21.886118</td>\n",
       "      <td>0.518287</td>\n",
       "      <td>0.000002</td>\n",
       "      <td>0.001495</td>\n",
       "      <td>S16</td>\n",
       "      <td>0</td>\n",
       "    </tr>\n",
       "  </tbody>\n",
       "</table>\n",
       "<p>35958 rows × 62 columns</p>\n",
       "</div>"
      ],
      "text/plain": [
       "              f0         f1          f2          f3        f4        f5  \\\n",
       "0      71.001875  11.594887  853.642086  154.521049  2.339071  0.333258   \n",
       "1      71.275764  11.993190  852.068345  156.208126  2.194700  0.313355   \n",
       "2      70.995376  11.993262  854.428957  158.174694  2.008055  0.290720   \n",
       "3      70.929045  12.084673  854.991007  159.511131  1.910564  0.295406   \n",
       "4      71.047971  12.048325  853.866906  159.098395  1.924567  0.293828   \n",
       "...          ...        ...         ...         ...       ...       ...   \n",
       "35953  66.946620  12.147755  906.846374  169.934462  0.147691 -0.270101   \n",
       "35954  66.850106  12.281809  906.129808  170.393058  0.133094 -0.258618   \n",
       "35955  66.560432  12.319285  909.855769  171.456485  0.095429 -0.301767   \n",
       "35956  66.629416  12.310309  909.735577  171.354097  0.100256 -0.301718   \n",
       "35957  66.364244  12.285762  913.100962  171.251775  0.128645 -0.328987   \n",
       "\n",
       "          f6         f7         f8       f9  ...       f52       f53  \\\n",
       "0      109.0  78.417266  94.244604  1125.00  ... -0.002344  0.002462   \n",
       "1      110.0  79.136691  94.964029  1125.00  ... -0.001870  0.002883   \n",
       "2      110.0  79.136691  94.964029  1125.00  ... -0.001849  0.002447   \n",
       "3      109.0  78.417266  94.244604  1125.00  ... -0.001749  0.003175   \n",
       "4      109.0  78.417266  94.964029  1125.00  ... -0.001919  0.001426   \n",
       "...      ...        ...        ...      ...  ...       ...       ...   \n",
       "35953  114.0  87.022901  96.183206   968.75  ... -0.001389  0.001393   \n",
       "35954  113.0  86.923077  96.153846   968.75  ... -0.001420  0.001235   \n",
       "35955  114.0  87.692308  96.153846   968.75  ... -0.001361  0.001216   \n",
       "35956  113.0  86.923077  96.153846   968.75  ... -0.001382  0.001223   \n",
       "35957  113.0  86.923077  96.153846   968.75  ... -0.001309  0.001490   \n",
       "\n",
       "            f54       f55        f56       f57       f58       f59  \\\n",
       "0     -0.018732  0.003601  21.886141  0.890333  0.000010  0.003222   \n",
       "1     -0.009692  0.002393  21.886140  0.801697  0.000006  0.002370   \n",
       "2     -0.009703  0.002347  21.886139  0.813464  0.000006  0.002419   \n",
       "3     -0.009677  0.002320  21.886140  0.762883  0.000005  0.002215   \n",
       "4     -0.009659  0.002218  21.886143  0.726163  0.000005  0.002130   \n",
       "...         ...       ...        ...       ...       ...       ...   \n",
       "35953 -0.007822  0.001640  21.886119  0.537796  0.000002  0.001557   \n",
       "35954 -0.007863  0.001588  21.886119  0.516027  0.000002  0.001504   \n",
       "35955 -0.007829  0.001570  21.886118  0.519307  0.000002  0.001503   \n",
       "35956 -0.007867  0.001576  21.886118  0.511775  0.000002  0.001492   \n",
       "35957 -0.008003  0.001593  21.886118  0.518287  0.000002  0.001495   \n",
       "\n",
       "       subject_id  label  \n",
       "0             S14      0  \n",
       "1             S14      0  \n",
       "2             S14      0  \n",
       "3             S14      0  \n",
       "4             S14      0  \n",
       "...           ...    ...  \n",
       "35953         S16      0  \n",
       "35954         S16      0  \n",
       "35955         S16      0  \n",
       "35956         S16      0  \n",
       "35957         S16      0  \n",
       "\n",
       "[35958 rows x 62 columns]"
      ]
     },
     "execution_count": 3,
     "metadata": {},
     "output_type": "execute_result"
    }
   ],
   "source": [
    "data_full"
   ]
  },
  {
   "cell_type": "code",
   "execution_count": 17,
   "id": "f6d0ee7b-c8c2-4bae-90c4-ef351a61e097",
   "metadata": {},
   "outputs": [],
   "source": [
    "data_test = data_full[data_full.subject_id == subject_id_test]\n",
    "data_train = data_full[data_full.subject_id != subject_id_test]\n",
    "\n",
    "# split test sets\n",
    "X_test = data_test.iloc[:,:-2].to_numpy()\n",
    "y_test = data_test.iloc[:,-1].to_numpy()\n",
    "\n",
    "# split into train - validate\n",
    "X_train = data_train.iloc[:,:-2].to_numpy()\n",
    "y_train = data_train.iloc[:,-1].to_numpy()\n",
    "\n",
    "# Scaler Data\n",
    "# s_scaler = StandardScaler()\n",
    "# r_scaler = RobustScaler()\n",
    "# X_train_hr = X_train[:,0:25]\n",
    "# X_train_eda = X_train[:,25:]\n",
    "# scaler.fit_transform(X_train)\n",
    "# X_test = scaler.transform(X_test)"
   ]
  },
  {
   "cell_type": "code",
   "execution_count": 18,
   "id": "1d3ae2f0-c198-4574-8a37-8b01902134bc",
   "metadata": {},
   "outputs": [],
   "source": [
    "# clf = RandomForestClassifier(n_estimators = 1000, random_state = 0, \n",
    "#                              n_jobs = -1, max_features='sqrt', \n",
    "#                              oob_score=True, bootstrap=True, class_weight = 'balanced')\n",
    "\n",
    "clf = SVC(kernel='rbf', random_state=0, \n",
    "          class_weight='balanced', C=10)"
   ]
  },
  {
   "cell_type": "code",
   "execution_count": 19,
   "id": "e4384ffa-dec5-4b47-bb52-9931877d3eb0",
   "metadata": {},
   "outputs": [
    {
     "data": {
      "text/plain": [
       "RandomForestClassifier(class_weight='balanced', max_features='sqrt',\n",
       "                       n_estimators=1000, n_jobs=-1, oob_score=True,\n",
       "                       random_state=0)"
      ]
     },
     "execution_count": 19,
     "metadata": {},
     "output_type": "execute_result"
    }
   ],
   "source": [
    "clf.fit(X_train, y_train)"
   ]
  },
  {
   "cell_type": "code",
   "execution_count": 20,
   "id": "a4614730-0c93-4d83-b199-904a7173ce92",
   "metadata": {},
   "outputs": [],
   "source": [
    "# Prediction\n",
    "Y_pred_test = clf.predict(X_test)\n",
    "Y_pred_train = clf.predict(X_train)\n",
    "acc_test = accuracy_score(y_test, Y_pred_test)\n",
    "acc_train = accuracy_score(y_train, Y_pred_train)\n",
    "\n",
    "f1_test = f1_score(y_test, Y_pred_test)\n",
    "f1_train = f1_score(y_train, Y_pred_train)\n",
    "\n",
    "bacc_test = balanced_accuracy_score(y_test, Y_pred_test)\n",
    "bacc_train = balanced_accuracy_score(y_train, Y_pred_train)"
   ]
  },
  {
   "cell_type": "code",
   "execution_count": 8,
   "id": "fb97fdf8-accc-4533-be71-f761652f325f",
   "metadata": {},
   "outputs": [
    {
     "data": {
      "text/plain": [
       "(1.0, 0.7619047619047619)"
      ]
     },
     "execution_count": 8,
     "metadata": {},
     "output_type": "execute_result"
    }
   ],
   "source": [
    "bacc_train, bacc_test # SCL"
   ]
  },
  {
   "cell_type": "code",
   "execution_count": 9,
   "id": "f529ee9b-a2f2-4d08-a12f-55eeb0ee84c6",
   "metadata": {},
   "outputs": [
    {
     "data": {
      "text/plain": [
       "(1.0, 0.6875000000000001)"
      ]
     },
     "execution_count": 9,
     "metadata": {},
     "output_type": "execute_result"
    }
   ],
   "source": [
    "f1_train, f1_test # SCL"
   ]
  },
  {
   "cell_type": "code",
   "execution_count": 8,
   "id": "6d6e4ad9-0d7d-4346-9204-5ba50759fd2f",
   "metadata": {},
   "outputs": [
    {
     "data": {
      "text/plain": [
       "(1.0, 0.7711604749138261, 1.0, 0.7028360049321825)"
      ]
     },
     "execution_count": 8,
     "metadata": {},
     "output_type": "execute_result"
    }
   ],
   "source": [
    "# SCL_128\n",
    "bacc_train, bacc_test, f1_train, f1_test"
   ]
  },
  {
   "cell_type": "code",
   "execution_count": 9,
   "id": "7f05bcce-8baf-4564-9e25-1cb3fbe808f6",
   "metadata": {},
   "outputs": [
    {
     "data": {
      "text/plain": [
       "(1.0, 0.8085714285714285, 1.0, 0.7632508833922261)"
      ]
     },
     "execution_count": 9,
     "metadata": {},
     "output_type": "execute_result"
    }
   ],
   "source": [
    "# Original\n",
    "bacc_train, bacc_test, f1_train, f1_test"
   ]
  },
  {
   "cell_type": "code",
   "execution_count": 11,
   "id": "d2db7701-0bb7-4c36-b2a3-816ea0fde4d6",
   "metadata": {},
   "outputs": [
    {
     "data": {
      "text/plain": [
       "(1.0, 0.8739635157545605, 1.0, 0.855787476280835)"
      ]
     },
     "execution_count": 11,
     "metadata": {},
     "output_type": "execute_result"
    }
   ],
   "source": [
    "# Original - S17\n",
    "bacc_train, bacc_test, f1_train, f1_test"
   ]
  },
  {
   "cell_type": "code",
   "execution_count": 8,
   "id": "8fdb01a6-48cd-4228-8cc4-6852e42e6894",
   "metadata": {},
   "outputs": [
    {
     "data": {
      "text/plain": [
       "(1.0, 0.8095238095238095, 1.0, 0.7647058823529412)"
      ]
     },
     "execution_count": 8,
     "metadata": {},
     "output_type": "execute_result"
    }
   ],
   "source": [
    "# Original - Robust Scaler\n",
    "bacc_train, bacc_test, f1_train, f1_test"
   ]
  },
  {
   "cell_type": "code",
   "execution_count": 10,
   "id": "7c68a33e-1e18-484c-8414-2bc029e0db1c",
   "metadata": {},
   "outputs": [
    {
     "data": {
      "text/plain": [
       "(1.0, 0.7961904761904761, 1.0, 0.7440191387559809)"
      ]
     },
     "execution_count": 10,
     "metadata": {},
     "output_type": "execute_result"
    }
   ],
   "source": [
    "# SCL_1024\n",
    "bacc_train, bacc_test, f1_train, f1_test"
   ]
  },
  {
   "cell_type": "code",
   "execution_count": 21,
   "id": "95b6dfdf-3cda-4b41-b63b-ab800b71103e",
   "metadata": {},
   "outputs": [
    {
     "data": {
      "text/plain": [
       "(1.0, 0.7685714285714286, 1.0, 0.6988847583643123)"
      ]
     },
     "execution_count": 21,
     "metadata": {},
     "output_type": "execute_result"
    }
   ],
   "source": [
    "# SCL_1024_LARS_SGD\n",
    "bacc_train, bacc_test, f1_train, f1_test"
   ]
  },
  {
   "cell_type": "code",
   "execution_count": null,
   "id": "380d7020-f134-4bd3-af03-74a4b18e67e1",
   "metadata": {},
   "outputs": [],
   "source": []
  }
 ],
 "metadata": {
  "kernelspec": {
   "display_name": "Python 3 (ipykernel)",
   "language": "python",
   "name": "python3"
  },
  "language_info": {
   "codemirror_mode": {
    "name": "ipython",
    "version": 3
   },
   "file_extension": ".py",
   "mimetype": "text/x-python",
   "name": "python",
   "nbconvert_exporter": "python",
   "pygments_lexer": "ipython3",
   "version": "3.8.11"
  }
 },
 "nbformat": 4,
 "nbformat_minor": 5
}
