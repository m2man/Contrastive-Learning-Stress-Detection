{
 "cells": [
  {
   "cell_type": "code",
   "execution_count": 1,
   "id": "b76b7ddb-99fa-4af9-a34f-7dcbd7537107",
   "metadata": {},
   "outputs": [],
   "source": [
    "import numpy as np\n",
    "import pandas as pd\n",
    "import random\n",
    "from sklearn.model_selection import train_test_split, GridSearchCV, PredefinedSplit\n",
    "from sklearn.metrics import accuracy_score, f1_score, balanced_accuracy_score\n",
    "from tqdm import tqdm\n",
    "from sklearn.ensemble import RandomForestClassifier\n",
    "from sklearn.preprocessing import StandardScaler, RobustScaler\n",
    "from sklearn.ensemble import ExtraTreesClassifier\n",
    "from sklearn.svm import SVC"
   ]
  },
  {
   "cell_type": "code",
   "execution_count": 12,
   "id": "3f8098fd-3840-471b-ad7e-edc666c56c7e",
   "metadata": {},
   "outputs": [],
   "source": [
    "# 14, 6, 17, 3, 2, 13, 9, 10, 15, 8, 7, 11, 4, 5, 16\n",
    "SUBJECT_ID_TEST = [6, 17, 3, 2, 13, 9, 10, 15, 8, 7, 11, 4, 5]\n",
    "SUBJECT_ID_TEST = ['S'+str(x) for x in SUBJECT_ID_TEST]\n",
    "subject_id_test = 'AD1'\n",
    "\n",
    "##### READ DATASET #####\n",
    "# DATA_DIR = '/home/nvtu/PhD_Work/StressDetection/DATA/MyDataset/WESAD'\n",
    "# NAME_DATASET = DATA_DIR.split('/')[-1]\n",
    "\n",
    "# data_group = np.load(f'{DATA_DIR}/{NAME_DATASET}_WRIST_groups_1.npy')\n",
    "# data_gt = np.load(f'{DATA_DIR}/{NAME_DATASET}_WRIST_ground_truth_1.npy')\n",
    "# data_ft = np.load(f'{DATA_DIR}/{NAME_DATASET}_WRIST_stats_feats_1.npy')\n",
    "# data_ft_con = np.load(f'/home/nmduy/STRESS/NewCode/EmbededFt/{NAME_DATASET}_WRIST_contrastive_embed_{subject_id_test}.npy')\n",
    "# # with open('test.npy', 'wb') as f:\n",
    "# #     np.save(f, np.array([1, 2]))\n",
    "\n",
    "DATA_DIR = '/home/nvtu/PhD_Work/StressDetection/DATA/MyDataset/AffectiveROAD_Data/Database'\n",
    "NAME_DATASET = 'AffectiveROAD'\n",
    "data_group = np.load(f'{DATA_DIR}/{NAME_DATASET}_groups_1.npy')\n",
    "data_gt = np.load(f'{DATA_DIR}/{NAME_DATASET}_ground_truth_1.npy')\n",
    "data_ft = np.load(f'{DATA_DIR}/{NAME_DATASET}_stats_feats_1.npy')\n",
    "\n",
    "if NAME_DATASET == 'AffectiveROAD':\n",
    "    indices = np.where(data_gt >= 0)[0]\n",
    "    data_ft = data_ft[indices]\n",
    "    data_group = data_group[indices]\n",
    "    data_gt = data_gt[indices]\n",
    "data_ft_con = np.load(f'/home/nmduy/STRESS/NewCode/EmbededFt/{NAME_DATASET}/{NAME_DATASET}_contrastive_embed_LH_{subject_id_test}.npy')\n",
    "\n",
    "# Create dataframe for dataset\n",
    "column_values = [f'f{x}' for x in range(data_ft_con.shape[1])]\n",
    "data_full = pd.DataFrame(data = data_ft_con,  \n",
    "                         columns = column_values)\n",
    "data_full['subject_id'] = data_group\n",
    "data_full['label'] = data_gt\n",
    "list_subject_id = np.unique(data_full['subject_id']).tolist()"
   ]
  },
  {
   "cell_type": "code",
   "execution_count": 4,
   "id": "0edc0bb1-fb85-40b1-a465-0478f2e0f8f7",
   "metadata": {},
   "outputs": [
    {
     "data": {
      "text/plain": [
       "(34625, 128)"
      ]
     },
     "execution_count": 4,
     "metadata": {},
     "output_type": "execute_result"
    }
   ],
   "source": [
    "data_ft_con.shape"
   ]
  },
  {
   "cell_type": "code",
   "execution_count": 19,
   "id": "f6d0ee7b-c8c2-4bae-90c4-ef351a61e097",
   "metadata": {},
   "outputs": [],
   "source": [
    "data_test = data_full[data_full.subject_id == subject_id_test]\n",
    "data_train = data_full[data_full.subject_id != subject_id_test]\n",
    "\n",
    "# split test sets\n",
    "X_test = data_test.iloc[:,:-2].to_numpy()\n",
    "y_test = data_test.iloc[:,-1].to_numpy()\n",
    "\n",
    "# split into train - validate\n",
    "X_train = data_train.iloc[:,:-2].to_numpy()\n",
    "y_train = data_train.iloc[:,-1].to_numpy()\n",
    "\n",
    "# Scaler Data\n",
    "# scaler = StandardScaler()\n",
    "# scaler = RobustScaler()\n",
    "# X_train = scaler.fit_transform(X_train)\n",
    "# X_test = scaler.transform(X_test)"
   ]
  },
  {
   "cell_type": "code",
   "execution_count": 20,
   "id": "1d3ae2f0-c198-4574-8a37-8b01902134bc",
   "metadata": {},
   "outputs": [],
   "source": [
    "# clf = RandomForestClassifier(n_estimators = 1000, random_state = 0, \n",
    "#                              n_jobs = -1, max_features='sqrt', \n",
    "#                              oob_score=True, bootstrap=True, class_weight = 'balanced')\n",
    "\n",
    "clf = SVC(kernel='rbf', random_state=0, \n",
    "          class_weight='balanced', C=10)"
   ]
  },
  {
   "cell_type": "code",
   "execution_count": 21,
   "id": "e4384ffa-dec5-4b47-bb52-9931877d3eb0",
   "metadata": {},
   "outputs": [
    {
     "data": {
      "text/plain": [
       "SVC(C=10, class_weight='balanced', random_state=0)"
      ]
     },
     "execution_count": 21,
     "metadata": {},
     "output_type": "execute_result"
    }
   ],
   "source": [
    "clf.fit(X_train, y_train)"
   ]
  },
  {
   "cell_type": "code",
   "execution_count": 22,
   "id": "a4614730-0c93-4d83-b199-904a7173ce92",
   "metadata": {},
   "outputs": [],
   "source": [
    "# Prediction\n",
    "Y_pred_test = clf.predict(X_test)\n",
    "Y_pred_train = clf.predict(X_train)\n",
    "acc_test = accuracy_score(y_test, Y_pred_test)\n",
    "acc_train = accuracy_score(y_train, Y_pred_train)\n",
    "\n",
    "f1_test = f1_score(y_test, Y_pred_test)\n",
    "f1_train = f1_score(y_train, Y_pred_train)\n",
    "\n",
    "bacc_test = balanced_accuracy_score(y_test, Y_pred_test)\n",
    "bacc_train = balanced_accuracy_score(y_train, Y_pred_train)"
   ]
  },
  {
   "cell_type": "code",
   "execution_count": 9,
   "id": "fb97fdf8-accc-4533-be71-f761652f325f",
   "metadata": {},
   "outputs": [
    {
     "data": {
      "text/plain": [
       "(0.7132727576126319, 0.5136195279149577)"
      ]
     },
     "execution_count": 9,
     "metadata": {},
     "output_type": "execute_result"
    }
   ],
   "source": [
    "bacc_train, bacc_test"
   ]
  },
  {
   "cell_type": "code",
   "execution_count": 10,
   "id": "f529ee9b-a2f2-4d08-a12f-55eeb0ee84c6",
   "metadata": {},
   "outputs": [
    {
     "data": {
      "text/plain": [
       "(0.6869275334174839, 0.519781718963165)"
      ]
     },
     "execution_count": 10,
     "metadata": {},
     "output_type": "execute_result"
    }
   ],
   "source": [
    "f1_train, f1_test"
   ]
  },
  {
   "cell_type": "code",
   "execution_count": 23,
   "id": "5a4a2aaa-1fd1-494d-a75e-394dc2db0c78",
   "metadata": {},
   "outputs": [
    {
     "data": {
      "text/plain": [
       "(0.7940407354261647, 0.3953136770737423)"
      ]
     },
     "execution_count": 23,
     "metadata": {},
     "output_type": "execute_result"
    }
   ],
   "source": [
    "bacc_train, bacc_test"
   ]
  },
  {
   "cell_type": "code",
   "execution_count": 24,
   "id": "49d163e6-0778-4a69-a8c4-ae55fd1b4fc7",
   "metadata": {},
   "outputs": [
    {
     "data": {
      "text/plain": [
       "(0.7619594061536256, 0.3809523809523809)"
      ]
     },
     "execution_count": 24,
     "metadata": {},
     "output_type": "execute_result"
    }
   ],
   "source": [
    "f1_train, f1_test"
   ]
  },
  {
   "cell_type": "code",
   "execution_count": null,
   "id": "7607e81f-ff58-4bc4-bf3f-131722e8e1ce",
   "metadata": {},
   "outputs": [],
   "source": []
  }
 ],
 "metadata": {
  "kernelspec": {
   "display_name": "Python 3",
   "language": "python",
   "name": "python3"
  },
  "language_info": {
   "codemirror_mode": {
    "name": "ipython",
    "version": 3
   },
   "file_extension": ".py",
   "mimetype": "text/x-python",
   "name": "python",
   "nbconvert_exporter": "python",
   "pygments_lexer": "ipython3",
   "version": "3.7.9"
  }
 },
 "nbformat": 4,
 "nbformat_minor": 5
}
